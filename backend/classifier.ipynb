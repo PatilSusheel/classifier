{
 "cells": [
  {
   "cell_type": "code",
   "execution_count": 43,
   "metadata": {},
   "outputs": [],
   "source": [
    "import os\n",
    "import numpy as np\n",
    "import tensorflow as tf\n",
    "from tensorflow.keras.preprocessing.image import ImageDataGenerator\n",
    "from tensorflow.keras.models import Sequential\n",
    "from tensorflow.keras.layers import Conv2D, MaxPooling2D, Flatten, Dense, Dropout\n",
    "from sklearn.model_selection import train_test_split\n",
    "from tensorflow.keras.preprocessing.image import load_img, img_to_array"
   ]
  },
  {
   "cell_type": "code",
   "execution_count": 44,
   "metadata": {},
   "outputs": [],
   "source": [
    "cats_path = \"C:/projects/classifier/backend/PetImages/Cat\"\n",
    "dogs_path = \"C:/projects/classifier/backend/PetImages/Dog\"\n",
    "\n",
    "cat_files = [os.path.join(cats_path, file) for file in os.listdir(cats_path)]\n",
    "dog_files = [os.path.join(dogs_path, file) for file in os.listdir(dogs_path)]"
   ]
  },
  {
   "cell_type": "code",
   "execution_count": 45,
   "metadata": {},
   "outputs": [],
   "source": [
    "all_files = cat_files + dog_files\n",
    "labels = [0] * len(cat_files) + [1] * len(dog_files)"
   ]
  },
  {
   "cell_type": "code",
   "execution_count": 46,
   "metadata": {},
   "outputs": [],
   "source": [
    "train_files, temp_files, train_labels, temp_labels = train_test_split(\n",
    "    all_files, labels, test_size=0.3, random_state=42\n",
    ")\n",
    "val_files, test_files, val_labels, test_labels = train_test_split(\n",
    "    temp_files, temp_labels, test_size=0.5, random_state=42\n",
    ")"
   ]
  },
  {
   "cell_type": "code",
   "execution_count": 12,
   "metadata": {},
   "outputs": [
    {
     "name": "stdout",
     "output_type": "stream",
     "text": [
      "Train set: 17472 images\n",
      "Validation set: 3744 images\n",
      "Test set: 3745 images\n"
     ]
    }
   ],
   "source": [
    "print(f\"Train set: {len(train_files)} images\")\n",
    "print(f\"Validation set: {len(val_files)} images\")\n",
    "print(f\"Test set: {len(test_files)} images\")"
   ]
  },
  {
   "cell_type": "code",
   "execution_count": 14,
   "metadata": {},
   "outputs": [
    {
     "name": "stdout",
     "output_type": "stream",
     "text": [
      "Skipping file C:/projects/classifier/backend/PetImages/Dog\\Thumbs.db: cannot identify image file <_io.BytesIO object at 0x000001C25C589E90>\n"
     ]
    },
    {
     "name": "stderr",
     "output_type": "stream",
     "text": [
      "c:\\Users\\sushe\\.conda\\envs\\deeplearning\\Lib\\site-packages\\PIL\\TiffImagePlugin.py:900: UserWarning: Truncated File Read\n",
      "  warnings.warn(str(msg))\n"
     ]
    },
    {
     "name": "stdout",
     "output_type": "stream",
     "text": [
      "Skipping file C:/projects/classifier/backend/PetImages/Cat\\Thumbs.db: cannot identify image file <_io.BytesIO object at 0x000001C25C60E0C0>\n"
     ]
    }
   ],
   "source": [
    "def load_images(file_paths, labels, target_size=(128, 128)):\n",
    "    images = []\n",
    "    valid_labels = []\n",
    "    for file, label in zip(file_paths, labels):\n",
    "        try:\n",
    "            img = tf.keras.preprocessing.image.load_img(file, target_size=target_size)\n",
    "            img_array = tf.keras.preprocessing.image.img_to_array(img)\n",
    "            images.append(img_array)\n",
    "            valid_labels.append(label)\n",
    "        except Exception as e:\n",
    "            print(f\"Skipping file {file}: {e}\")\n",
    "    return np.array(images), np.array(valid_labels)\n",
    "\n",
    "train_images, train_labels = load_images(train_files, train_labels)\n",
    "val_images, val_labels = load_images(val_files, val_labels)\n",
    "test_images, test_labels = load_images(test_files, test_labels)"
   ]
  },
  {
   "cell_type": "code",
   "execution_count": 15,
   "metadata": {},
   "outputs": [],
   "source": [
    "train_images = train_images / 255.0\n",
    "val_images = val_images / 255.0\n",
    "test_images = test_images / 255.0"
   ]
  },
  {
   "cell_type": "code",
   "execution_count": 21,
   "metadata": {},
   "outputs": [],
   "source": [
    "model = Sequential([\n",
    "    Conv2D(32, (3, 3), activation='relu', input_shape=(128, 128, 3)),\n",
    "    MaxPooling2D((2, 2)),\n",
    "    Conv2D(64, (3, 3), activation='relu'),\n",
    "    MaxPooling2D((2, 2)),\n",
    "    Conv2D(128, (3, 3), activation='relu'),\n",
    "    MaxPooling2D((2, 2)),\n",
    "    Flatten(),\n",
    "    Dense(128, activation='relu'),\n",
    "    Dropout(0.5),\n",
    "    Dense(1, activation='sigmoid')\n",
    "])"
   ]
  },
  {
   "cell_type": "code",
   "execution_count": 22,
   "metadata": {},
   "outputs": [],
   "source": [
    "model.compile(\n",
    "    optimizer='adam',\n",
    "    loss='binary_crossentropy',\n",
    "    metrics=['accuracy']\n",
    ")"
   ]
  },
  {
   "cell_type": "code",
   "execution_count": 23,
   "metadata": {},
   "outputs": [
    {
     "name": "stdout",
     "output_type": "stream",
     "text": [
      "Epoch 1/10\n",
      "546/546 [==============================] - 204s 370ms/step - loss: 0.6113 - accuracy: 0.6484 - val_loss: 0.5538 - val_accuracy: 0.7145\n",
      "Epoch 2/10\n",
      "546/546 [==============================] - 200s 365ms/step - loss: 0.5019 - accuracy: 0.7605 - val_loss: 0.4771 - val_accuracy: 0.7714\n",
      "Epoch 3/10\n",
      "546/546 [==============================] - 202s 370ms/step - loss: 0.4319 - accuracy: 0.8020 - val_loss: 0.4201 - val_accuracy: 0.8106\n",
      "Epoch 4/10\n",
      "546/546 [==============================] - 197s 361ms/step - loss: 0.3719 - accuracy: 0.8322 - val_loss: 0.4121 - val_accuracy: 0.8200\n",
      "Epoch 5/10\n",
      "546/546 [==============================] - 197s 361ms/step - loss: 0.3139 - accuracy: 0.8676 - val_loss: 0.3695 - val_accuracy: 0.8454\n",
      "Epoch 6/10\n",
      "546/546 [==============================] - 198s 362ms/step - loss: 0.2612 - accuracy: 0.8891 - val_loss: 0.3642 - val_accuracy: 0.8486\n",
      "Epoch 7/10\n",
      "546/546 [==============================] - 196s 359ms/step - loss: 0.2088 - accuracy: 0.9156 - val_loss: 0.3718 - val_accuracy: 0.8534\n",
      "Epoch 8/10\n",
      "546/546 [==============================] - 194s 356ms/step - loss: 0.1630 - accuracy: 0.9347 - val_loss: 0.3913 - val_accuracy: 0.8552\n",
      "Epoch 9/10\n",
      "546/546 [==============================] - 194s 355ms/step - loss: 0.1252 - accuracy: 0.9504 - val_loss: 0.3946 - val_accuracy: 0.8707\n",
      "Epoch 10/10\n",
      "546/546 [==============================] - 193s 354ms/step - loss: 0.1087 - accuracy: 0.9583 - val_loss: 0.4687 - val_accuracy: 0.8635\n"
     ]
    }
   ],
   "source": [
    "history = model.fit(\n",
    "    train_images, train_labels,\n",
    "    validation_data=(val_images, val_labels),\n",
    "    epochs=10,\n",
    "    batch_size=32\n",
    ")"
   ]
  },
  {
   "cell_type": "code",
   "execution_count": 24,
   "metadata": {},
   "outputs": [
    {
     "name": "stdout",
     "output_type": "stream",
     "text": [
      "117/117 - 9s - loss: 0.4789 - accuracy: 0.8627 - 9s/epoch - 76ms/step\n",
      "Test Accuracy: 0.86\n"
     ]
    }
   ],
   "source": [
    "test_loss, test_accuracy = model.evaluate(test_images, test_labels, verbose=2)\n",
    "print(f\"Test Accuracy: {test_accuracy:.2f}\")"
   ]
  },
  {
   "cell_type": "code",
   "execution_count": 26,
   "metadata": {},
   "outputs": [
    {
     "name": "stdout",
     "output_type": "stream",
     "text": [
      "Model saved as cat_dog_classifier.h5\n"
     ]
    }
   ],
   "source": [
    "model.save('C:/projects/classifier/backend/cat_dog_classifier.h5')\n",
    "print(\"Model saved as cat_dog_classifier.h5\")"
   ]
  },
  {
   "cell_type": "code",
   "execution_count": 4,
   "metadata": {},
   "outputs": [],
   "source": [
    "from tensorflow.keras.models import load_model\n",
    "import cv2"
   ]
  },
  {
   "cell_type": "code",
   "execution_count": 3,
   "metadata": {},
   "outputs": [],
   "source": [
    "MODEL_PATH = 'C:/projects/classifier/backend/cat_dog_classifier.h5'  \n",
    "model = load_model(MODEL_PATH)"
   ]
  },
  {
   "cell_type": "code",
   "execution_count": 38,
   "metadata": {},
   "outputs": [],
   "source": [
    "def preprocess_image(image_path):\n",
    "    img = load_img(image_path, target_size=(128, 128))\n",
    "    img_array = img_to_array(img)\n",
    "    img_array = img_array / 255.0 \n",
    "    return np.expand_dims(img_array, axis=0)  \n",
    "\n",
    "image_path = \"\"\n",
    "image = preprocess_image(image_path)"
   ]
  },
  {
   "cell_type": "code",
   "execution_count": 39,
   "metadata": {},
   "outputs": [
    {
     "name": "stdout",
     "output_type": "stream",
     "text": [
      "1/1 [==============================] - 0s 59ms/step\n"
     ]
    }
   ],
   "source": [
    "prediction = model.predict(image)"
   ]
  },
  {
   "cell_type": "code",
   "execution_count": 40,
   "metadata": {},
   "outputs": [
    {
     "name": "stdout",
     "output_type": "stream",
     "text": [
      "CAT\n"
     ]
    }
   ],
   "source": [
    "if prediction[0]>0.5:\n",
    "    print(\"DOG\")\n",
    "else:\n",
    "    print(\"CAT\")"
   ]
  },
  {
   "cell_type": "code",
   "execution_count": 42,
   "metadata": {},
   "outputs": [
    {
     "name": "stdout",
     "output_type": "stream",
     "text": [
      "[[0.14449923]]\n"
     ]
    }
   ],
   "source": [
    "print(prediction)"
   ]
  }
 ],
 "metadata": {
  "kernelspec": {
   "display_name": "deeplearning",
   "language": "python",
   "name": "python3"
  },
  "language_info": {
   "codemirror_mode": {
    "name": "ipython",
    "version": 3
   },
   "file_extension": ".py",
   "mimetype": "text/x-python",
   "name": "python",
   "nbconvert_exporter": "python",
   "pygments_lexer": "ipython3",
   "version": "3.11.5"
  }
 },
 "nbformat": 4,
 "nbformat_minor": 2
}
